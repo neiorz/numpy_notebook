{
 "cells": [
  {
   "cell_type": "markdown",
   "id": "90fb5352",
   "metadata": {},
   "source": [
    "The code problems sets in this excercise sheet are taken from many helpful resources. \n",
    "\n",
    "Check them out for further practice:\n",
    "\n",
    "https://www.kaggle.com/utsav15/100-numpy-exercises\n",
    "\n",
    "https://www.w3resource.com/python-exercises/numpy/index.php\n",
    "        \n",
    "https://www.machinelearningplus.com/python/101-numpy-exercises-python/\n",
    "    \n",
    "https://www.geeksforgeeks.org/python-numpy-practice-exercises-questions-and-solutions/ ( *Multiple solutions per problem* )\n",
    "    \n",
    "https://favtutor.com/blogs/numpy-exercises-python\n",
    "\n",
    "Level your coding skills by solving challenges: https://www.hackerrank.com/domains/python/numpy/difficulty/all/page/1"
   ]
  },
  {
   "cell_type": "code",
   "execution_count": 3,
   "id": "46fa71f9",
   "metadata": {},
   "outputs": [],
   "source": [
    "from numpy import *"
   ]
  },
  {
   "cell_type": "markdown",
   "id": "2013a1b0",
   "metadata": {},
   "source": [
    "### Question: Create a null vector of size 10\n",
    "\n",
    "### Answer:"
   ]
  },
  {
   "cell_type": "code",
   "execution_count": 3,
   "id": "71f02953",
   "metadata": {},
   "outputs": [
    {
     "name": "stdout",
     "output_type": "stream",
     "text": [
      "null vector : [0. 0. 0. 0. 0. 0. 0. 0. 0. 0.]\n"
     ]
    }
   ],
   "source": [
    "nullVector = zeros(10)\n",
    "print(\"null vector :\",nullVector)"
   ]
  },
  {
   "cell_type": "markdown",
   "id": "9cb85a3f",
   "metadata": {},
   "source": [
    "### Question: Create a vector with values ranging from 10 to 49\n"
   ]
  },
  {
   "cell_type": "code",
   "execution_count": 9,
   "id": "b52799bc",
   "metadata": {},
   "outputs": [
    {
     "name": "stdout",
     "output_type": "stream",
     "text": [
      "[10 11 12 13 14 15 16 17 18 19 20 21 22 23 24 25 26 27 28 29 30 31 32 33\n",
      " 34 35 36 37 38 39 40 41 42 43 44 45 46 47 48 49]\n"
     ]
    }
   ],
   "source": [
    "vector1 = arange(10 , 50)\n",
    "print(vector1)"
   ]
  },
  {
   "cell_type": "markdown",
   "id": "b8f92b34",
   "metadata": {},
   "source": [
    "### Question: Reverse a vector (first element becomes last)\n",
    "\n",
    "### Answer:"
   ]
  },
  {
   "cell_type": "code",
   "execution_count": 26,
   "id": "e4c6e65b",
   "metadata": {},
   "outputs": [
    {
     "name": "stdout",
     "output_type": "stream",
     "text": [
      "[ 1  2  3  4  5  6  7  8  9 10]\n",
      "[10  9  8  7  6  5  4  3  2  1]\n"
     ]
    }
   ],
   "source": [
    "vect1 = arange (1 , 11)\n",
    "reverse_vect1 = vect1 [::-1]\n",
    "print(vect1)\n",
    "print(reverse_vect1)"
   ]
  },
  {
   "cell_type": "markdown",
   "id": "90ba84dc",
   "metadata": {},
   "source": [
    "### Question: Create a 3x3 matrix with values ranging from 0 to 8\n",
    "\n",
    "### Answer:"
   ]
  },
  {
   "cell_type": "code",
   "execution_count": 32,
   "id": "fc80cecd",
   "metadata": {},
   "outputs": [
    {
     "name": "stdout",
     "output_type": "stream",
     "text": [
      "[[0 1 2]\n",
      " [3 4 5]\n",
      " [6 7 8]]\n"
     ]
    }
   ],
   "source": [
    "matrix = arange(0,9).reshape(3,3)\n",
    "print(matrix)"
   ]
  },
  {
   "cell_type": "markdown",
   "id": "d55b618e",
   "metadata": {},
   "source": [
    "### Question: Find indices of non-zero elements from [1,2,0,0,4,0]\n",
    "\n",
    "### Answer:"
   ]
  },
  {
   "cell_type": "code",
   "execution_count": 33,
   "id": "881c92b0",
   "metadata": {},
   "outputs": [
    {
     "name": "stdout",
     "output_type": "stream",
     "text": [
      "(array([0, 1, 4]),)\n"
     ]
    }
   ],
   "source": [
    "arr = array([1,2,0,0,4,0])\n",
    "indices = nonzero(arr)\n",
    "print(indices)"
   ]
  },
  {
   "cell_type": "markdown",
   "id": "0f31a283",
   "metadata": {},
   "source": [
    "### Question: Create a 10x10 array with random values and find the minimum, maximum and mean values\n",
    "\n",
    "### Answer:"
   ]
  },
  {
   "cell_type": "code",
   "execution_count": 36,
   "id": "d54d1cd2",
   "metadata": {},
   "outputs": [
    {
     "name": "stdout",
     "output_type": "stream",
     "text": [
      "Array : [[0.91197918 0.51157622 0.38550597 0.99660365 0.25886249 0.50722541\n",
      "  0.33163359 0.73786316 0.00657149 0.10758196]\n",
      " [0.52133827 0.37369815 0.53312004 0.9008694  0.77081074 0.3157012\n",
      "  0.41115634 0.24182007 0.09348468 0.12624168]\n",
      " [0.07621954 0.11194959 0.51776122 0.7507779  0.38103489 0.08384076\n",
      "  0.70607616 0.01267267 0.59155928 0.35902774]\n",
      " [0.42639494 0.92729405 0.51119039 0.43500305 0.1319147  0.60012334\n",
      "  0.51960427 0.3930822  0.21589883 0.72865181]\n",
      " [0.57735388 0.67892405 0.06383185 0.87670174 0.23325474 0.99968281\n",
      "  0.00634888 0.59226758 0.67327887 0.39181038]\n",
      " [0.79734698 0.8538949  0.35798927 0.45684856 0.14785659 0.38600234\n",
      "  0.57616    0.17146073 0.44007064 0.46046338]\n",
      " [0.40103436 0.93119667 0.63559783 0.98561134 0.2034902  0.69713216\n",
      "  0.97066336 0.13315012 0.70726708 0.10540426]\n",
      " [0.09929773 0.55908257 0.43228909 0.84401375 0.02914241 0.65071328\n",
      "  0.78262227 0.49341196 0.48253151 0.61002423]\n",
      " [0.39617703 0.47478047 0.579721   0.38524678 0.21611107 0.09822488\n",
      "  0.31882564 0.05326512 0.09205481 0.99053782]\n",
      " [0.11451423 0.53072689 0.82732573 0.41420702 0.24676076 0.90052533\n",
      "  0.59578655 0.78960498 0.04306364 0.3154607 ]]\n",
      "Minimum value : 0.00634887969449105\n",
      "Maximum value : 0.9996828100763234\n",
      "Mean value : 0.46401865798103403\n"
     ]
    }
   ],
   "source": [
    "arr = random.rand(10,10)\n",
    "minVal = arr.min()\n",
    "maxVal = arr.max()\n",
    "meanVal = arr.mean()\n",
    "\n",
    "print(\"Array :\",arr)\n",
    "print(\"Minimum value :\",minVal)\n",
    "print(\"Maximum value :\",maxVal)\n",
    "print(\"Mean value :\",meanVal)"
   ]
  },
  {
   "cell_type": "markdown",
   "id": "a2089fd4",
   "metadata": {},
   "source": [
    "### Question: What is the result of the following expressions?\n",
    "print(0 * np.nan)\n",
    "\n",
    "print(np.nan == np.nan)\n",
    "\n",
    "print(np.inf > np.nan)\n",
    "\n",
    "print(np.nan - np.nan)\n",
    "\n",
    "print(np.nan in set([np.nan]))\n",
    "\n",
    "print(0.3 == 3 * 0.1)\n",
    "\n",
    "### Answer"
   ]
  },
  {
   "cell_type": "code",
   "execution_count": null,
   "id": "825ce494",
   "metadata": {},
   "outputs": [],
   "source": [
    "#nan\n",
    "#False\n",
    "#False\n",
    "#nan\n",
    "#True\n",
    "#False"
   ]
  },
  {
   "cell_type": "code",
   "execution_count": 48,
   "id": "4de69961",
   "metadata": {},
   "outputs": [
    {
     "name": "stdout",
     "output_type": "stream",
     "text": [
      "nan\n",
      "False\n",
      "False\n",
      "nan\n",
      "True\n",
      "False\n"
     ]
    }
   ],
   "source": [
    "print(0 * nan)\n",
    "\n",
    "print(nan == nan)\n",
    "\n",
    "print(inf > nan)\n",
    "\n",
    "print(nan - nan)\n",
    "\n",
    "print(nan in set([nan]))\n",
    "\n",
    "print(0.3 == 3 * 0.1)"
   ]
  },
  {
   "cell_type": "markdown",
   "id": "d7a56c11",
   "metadata": {},
   "source": [
    "### Question: Write a NumPy program to convert a list and tuple into arrays. \n",
    "List to array:  [1 2 3 4 5 6 7 8]\n",
    "    \n",
    "Tuples to array:  ((8, 4), (6,1), (2, 3))\n",
    "    \n",
    "## Answer:"
   ]
  },
  {
   "cell_type": "code",
   "execution_count": null,
   "id": "51a5aa6b",
   "metadata": {},
   "outputs": [
    {
     "name": "stdout",
     "output_type": "stream",
     "text": [
      "[1 2 3 4 5 6 7 8]\n",
      "[[8 4]\n",
      " [6 1]\n",
      " [2 3]]\n"
     ]
    }
   ],
   "source": [
    "my_list =[1,2,3,4,5,6,7,8]\n",
    "tuble = (8,4,6,1,2,3)\n",
    "list_to_arr = array(my_list)\n",
    "tuple_to_arr = array(tuble).reshape(3,2)\n",
    "\n",
    "print(list_to_arr)\n",
    "print(tuple_to_arr)"
   ]
  },
  {
   "cell_type": "markdown",
   "id": "70159055",
   "metadata": {},
   "source": [
    "### Question: Write a NumPy program to append values to the end of an array.\n",
    "Original array:  [10, 20, 30]\n",
    "After append values to the end of the array:  [10 20 30 40 50 60 70 80 90]\n",
    "\n",
    "### Answer:"
   ]
  },
  {
   "cell_type": "code",
   "execution_count": 68,
   "id": "00204d5d",
   "metadata": {},
   "outputs": [
    {
     "name": "stdout",
     "output_type": "stream",
     "text": [
      "new array : [10 20 30 40 50 60 70 80 90]\n"
     ]
    }
   ],
   "source": [
    "arr3 = array([10, 20, 30])\n",
    "arr4 = array([40,50,60,70,80,90])\n",
    "new_arr = hstack((arr3,arr4))\n",
    "print(\"new array :\",new_arr)"
   ]
  },
  {
   "cell_type": "markdown",
   "id": "794344ca",
   "metadata": {},
   "source": [
    "### Question: How to add a border (filled with 0's) around an existing array? \n",
    "\n",
    "### Answer:"
   ]
  },
  {
   "cell_type": "code",
   "execution_count": 71,
   "id": "fb15cd5c",
   "metadata": {},
   "outputs": [
    {
     "name": "stdout",
     "output_type": "stream",
     "text": [
      "[[0 0 0 0 0]\n",
      " [0 1 2 1 0]\n",
      " [0 3 4 3 0]\n",
      " [0 5 6 5 0]\n",
      " [0 0 0 0 0]]\n"
     ]
    }
   ],
   "source": [
    "arr = array([[1,2,1],[3,4,3],[5,6,5]])\n",
    "padded = pad(arr,pad_width=1)\n",
    "print(padded)"
   ]
  },
  {
   "cell_type": "markdown",
   "id": "4b8a4b65",
   "metadata": {},
   "source": [
    "### Question: Consider a (6,7,8) shape array, what is the index (x,y,z) of the 100th element?\n",
    "\n",
    "### Answer:"
   ]
  },
  {
   "cell_type": "code",
   "execution_count": null,
   "id": "622c7fa0",
   "metadata": {},
   "outputs": [
    {
     "name": "stdout",
     "output_type": "stream",
     "text": [
      "(np.int64(1), np.int64(5), np.int64(3))\n"
     ]
    }
   ],
   "source": [
    "element =99\n",
    "shape = (6,7,8)\n",
    "coordent = unravel_index(element,shape)\n",
    "\n",
    "# for integr result\n",
    "#coordent = tuple(int(x) for x in coordent) \n",
    "\n",
    "\n",
    "print(coordent)"
   ]
  },
  {
   "cell_type": "markdown",
   "id": "83609112",
   "metadata": {},
   "source": [
    "### Question: Normalize a 5x5 random matrix\n",
    "\n",
    "### Answer:"
   ]
  },
  {
   "cell_type": "code",
   "execution_count": 8,
   "id": "186f18a8",
   "metadata": {},
   "outputs": [
    {
     "name": "stdout",
     "output_type": "stream",
     "text": [
      "original matrix :\n",
      " [[34.00398176 15.91597549 98.43098002 23.71670427  3.04022768]\n",
      " [ 9.20027963 99.4671376  30.60622115 22.719234   56.07720994]\n",
      " [46.62771392 27.95204929 79.27520857 64.0216158  72.37460533]\n",
      " [40.04253378 56.18334203 31.17631107 29.07191939  5.20346187]\n",
      " [70.07021367 33.54377277 74.7138662  86.23847101 90.07826058]]\n",
      "normalized matrix :\n",
      " [[0.32111113 0.13352857 0.98925448 0.21442641 0.        ]\n",
      " [0.06388312 1.         0.28587449 0.2040821  0.55002263]\n",
      " [0.45202616 0.25834927 0.79059861 0.63241048 0.71903556]\n",
      " [0.38373423 0.55112327 0.29178663 0.26996294 0.02243393]\n",
      " [0.69513776 0.31633851 0.74329498 0.86281146 0.90263219]]\n"
     ]
    }
   ],
   "source": [
    "mat = random.rand(5,5)*100\n",
    "\n",
    "normalize_mat = (mat-mat.min()) / (mat.max()-mat.min())\n",
    "\n",
    "print(\"original matrix :\\n\", mat)\n",
    "print(\"normalized matrix :\\n\", normalize_mat)"
   ]
  },
  {
   "cell_type": "markdown",
   "id": "683ec294",
   "metadata": {},
   "source": [
    "### Question: Given a 1D array, negate all elements which are between 3 and 8, in place\n",
    "\n",
    "### Answer:"
   ]
  },
  {
   "cell_type": "code",
   "execution_count": 14,
   "id": "5f0ddec3",
   "metadata": {},
   "outputs": [
    {
     "name": "stdout",
     "output_type": "stream",
     "text": [
      "array with negated :\n",
      " [ 1  2  3 -4 -5 -6 -7  8]\n"
     ]
    }
   ],
   "source": [
    "arr = array([1,2,3,4,5,6,7,8])\n",
    "condition = (arr>3) & (arr<8)\n",
    "arr[condition] *= (-1)\n",
    "\n",
    "\n",
    "print(\"array with negated :\\n\",arr)"
   ]
  },
  {
   "cell_type": "markdown",
   "id": "1b08d61b",
   "metadata": {},
   "source": [
    "### Question: How to find common values between two arrays? \n",
    "\n",
    "### Answer:"
   ]
  },
  {
   "cell_type": "code",
   "execution_count": 18,
   "id": "5de6246a",
   "metadata": {},
   "outputs": [
    {
     "name": "stdout",
     "output_type": "stream",
     "text": [
      "common values between arr1 & arr2 :\n",
      " [   0    1    5    9   66  934 7123]\n"
     ]
    }
   ],
   "source": [
    "arr1 = array ([1,4,2,9,5,66,934,22,0,7123])\n",
    "arr2 = array ([1,5,66,9,934,999,7123,0,545])\n",
    "\n",
    "common = intersect1d(arr1,arr2)\n",
    "\n",
    "print(\"common values between arr1 & arr2 :\\n\",common)"
   ]
  },
  {
   "cell_type": "markdown",
   "id": "90ce2356",
   "metadata": {},
   "source": [
    "### Question: Write a NumPy program to test whether each element of a 1-D array is also present in a second array. \n",
    "Array1: [ 0 10 20 40 60]\n",
    "\n",
    "Array2: [0, 40]\n",
    "\n",
    "Expected Output:[ True False False True False]\n",
    "\n",
    "### Answer:"
   ]
  },
  {
   "cell_type": "code",
   "execution_count": 21,
   "id": "2c34cc68",
   "metadata": {},
   "outputs": [
    {
     "name": "stdout",
     "output_type": "stream",
     "text": [
      "[ True False False  True False]\n"
     ]
    },
    {
     "name": "stderr",
     "output_type": "stream",
     "text": [
      "C:\\Users\\B UNIT\\AppData\\Local\\Temp\\ipykernel_1208\\1181421639.py:4: DeprecationWarning: `in1d` is deprecated. Use `np.isin` instead.\n",
      "  result = in1d(arr1 , arr2 )\n"
     ]
    }
   ],
   "source": [
    "arr1 = array([0,10,20,40,60])\n",
    "arr2 = array([0,40])\n",
    "\n",
    "result = in1d(arr1 , arr2 )\n",
    "print(result)"
   ]
  },
  {
   "cell_type": "markdown",
   "id": "2e588c1b",
   "metadata": {},
   "source": [
    "### Question: How to get all the dates corresponding to the month of July 2016?\n",
    "\n",
    "### Answer:"
   ]
  },
  {
   "cell_type": "code",
   "execution_count": 22,
   "id": "fe8c78c8",
   "metadata": {},
   "outputs": [
    {
     "name": "stdout",
     "output_type": "stream",
     "text": [
      "corresponding dates ['2016-07-01' '2016-07-02' '2016-07-03' '2016-07-04' '2016-07-05'\n",
      " '2016-07-06' '2016-07-07' '2016-07-08' '2016-07-09' '2016-07-10'\n",
      " '2016-07-11' '2016-07-12' '2016-07-13' '2016-07-14' '2016-07-15'\n",
      " '2016-07-16' '2016-07-17' '2016-07-18' '2016-07-19' '2016-07-20'\n",
      " '2016-07-21' '2016-07-22' '2016-07-23' '2016-07-24' '2016-07-25'\n",
      " '2016-07-26' '2016-07-27' '2016-07-28' '2016-07-29' '2016-07-30'\n",
      " '2016-07-31']\n"
     ]
    }
   ],
   "source": [
    "dates = arange (datetime64('2016-07-01'),datetime64('2016-08-01'),dtype='datetime64[D]')\n",
    "print(\"corresponding dates\",dates)"
   ]
  },
  {
   "cell_type": "markdown",
   "id": "3888dd09",
   "metadata": {},
   "source": [
    "### Question: Extract the integer part of a random array using 5 different methods\n",
    "\n",
    "### Answer:"
   ]
  },
  {
   "cell_type": "code",
   "execution_count": 28,
   "id": "08bcdd17",
   "metadata": {},
   "outputs": [
    {
     "name": "stdout",
     "output_type": "stream",
     "text": [
      "original array :\n",
      " [6.27648438 7.71263395 1.34715808 1.66372001 3.74633293]\n",
      "Method 1 :\n",
      " [6. 7. 1. 1. 3.]\n",
      "Method 2 :\n",
      " [6. 7. 1. 1. 3.]\n",
      "Method 3 :\n",
      " [6. 7. 1. 1. 3.]\n",
      "Method 4 :\n",
      " [6 7 1 1 3]\n",
      "Method 5 :\n",
      " (array([0.27648438, 0.71263395, 0.34715808, 0.66372001, 0.74633293]), array([6., 7., 1., 1., 3.]))\n"
     ]
    }
   ],
   "source": [
    "arr = random.uniform(0,10,5)\n",
    "\n",
    "method1 = floor(arr)\n",
    "method2 = trunc(arr)\n",
    "method3 = fix(arr)\n",
    "method4 = arr.astype(int)\n",
    "method5 =  modf(arr)\n",
    "\n",
    "print(\"original array :\\n\",arr)\n",
    "print(\"Method 1 :\\n\",method1)\n",
    "print(\"Method 2 :\\n\",method2)\n",
    "print(\"Method 3 :\\n\",method3)\n",
    "print(\"Method 4 :\\n\",method4)\n",
    "print(\"Method 5 :\\n\",method5)"
   ]
  },
  {
   "cell_type": "markdown",
   "id": "04b7e193",
   "metadata": {},
   "source": [
    "### Question: Consider two random array A and B, check if they are equal \n",
    "\n",
    "### Answer:"
   ]
  },
  {
   "cell_type": "code",
   "execution_count": 34,
   "id": "6fa1a2dc",
   "metadata": {},
   "outputs": [
    {
     "name": "stdout",
     "output_type": "stream",
     "text": [
      "first array :\n",
      " [[1 3 3]\n",
      " [4 2 3]\n",
      " [1 1 4]]\n",
      "second array :\n",
      " [[0 2 1]\n",
      " [1 4 2]\n",
      " [0 2 0]]\n",
      "Are Equal? :\n",
      " False\n"
     ]
    }
   ],
   "source": [
    "arr1 = random.randint(0,5,(3,3))\n",
    "arr2 = random.randint(0,5,(3,3))\n",
    "is_equal = array_equal(arr1,arr2)\n",
    "\n",
    "print(\"first array :\\n\",arr1)\n",
    "print(\"second array :\\n\",arr2)\n",
    "print(\"Are Equal? :\\n\",is_equal)\n"
   ]
  },
  {
   "cell_type": "markdown",
   "id": "630fb73c",
   "metadata": {},
   "source": [
    "### Question: How to find the closest value (to a given scalar) in a vector?\n",
    "\n",
    "### Answer:"
   ]
  },
  {
   "cell_type": "code",
   "execution_count": 36,
   "id": "06ee6cee",
   "metadata": {},
   "outputs": [
    {
     "name": "stdout",
     "output_type": "stream",
     "text": [
      "closest value : 9\n"
     ]
    }
   ],
   "source": [
    "vect = array([1, 5, 9, 12, 20])\n",
    "scalar = 10\n",
    "closest_value = vect[abs(vect-scalar).argmin()]\n",
    "\n",
    "print(\"closest value :\", closest_value)\n"
   ]
  },
  {
   "cell_type": "markdown",
   "id": "04c94d20",
   "metadata": {},
   "source": [
    "### Question: Find the nearest value from a given value in an array\n",
    "\n",
    "### Answer:"
   ]
  },
  {
   "cell_type": "code",
   "execution_count": 39,
   "id": "5e9a82bb",
   "metadata": {},
   "outputs": [
    {
     "name": "stdout",
     "output_type": "stream",
     "text": [
      "the nearest value :\n",
      " 680\n"
     ]
    }
   ],
   "source": [
    "arr = array([1,2,500,13,680])\n",
    "value = 601\n",
    "near = arr[abs(arr-value).argmin()]\n",
    "\n",
    "print(\"the nearest value :\\n\",near)"
   ]
  },
  {
   "cell_type": "markdown",
   "id": "17701f8f",
   "metadata": {},
   "source": [
    "### Question: Write a NumPy program to get the values and indices of the elements that are bigger than 10 in a given array.\n",
    "\n",
    "### Answer:"
   ]
  },
  {
   "cell_type": "code",
   "execution_count": 42,
   "id": "f174daa6",
   "metadata": {},
   "outputs": [
    {
     "name": "stdout",
     "output_type": "stream",
     "text": [
      "indices:\n",
      " [2 5 6 7]\n"
     ]
    }
   ],
   "source": [
    "arr=array([1,2,66,4,9,11,4356,38])\n",
    "values = arr[arr > 10]\n",
    "indices = where(arr > 10)[0]\n",
    "print(\"indices:\\n\",indices)"
   ]
  },
  {
   "cell_type": "markdown",
   "id": "2864c384",
   "metadata": {},
   "source": [
    "### Question: Write a NumPy program to save a NumPy array to a text file.\n",
    "\n",
    "### Answer:"
   ]
  },
  {
   "cell_type": "code",
   "execution_count": 4,
   "id": "b5a4f4cd",
   "metadata": {},
   "outputs": [
    {
     "name": "stdout",
     "output_type": "stream",
     "text": [
      "Array saved to 'array_data.txt'\n"
     ]
    }
   ],
   "source": [
    "arr = array([[1, 2, 3], [4, 5, 6], [7, 8, 9]])\n",
    "savetxt(\"array_data.txt\", arr, fmt=\"%d\")\n",
    "print(\"Array saved to 'array_data.txt'\")"
   ]
  },
  {
   "cell_type": "markdown",
   "id": "59b70987",
   "metadata": {},
   "source": [
    "### Question: How to read the following file?\n",
    "\n",
    "### Answer:"
   ]
  },
  {
   "cell_type": "code",
   "execution_count": 5,
   "id": "41b1767f",
   "metadata": {},
   "outputs": [
    {
     "name": "stdout",
     "output_type": "stream",
     "text": [
      "[[1 2 3]\n",
      " [4 5 6]\n",
      " [7 8 9]]\n"
     ]
    }
   ],
   "source": [
    "arr = loadtxt(\"array_data.txt\", dtype=int)\n",
    "\n",
    "print(arr)"
   ]
  },
  {
   "cell_type": "markdown",
   "id": "25a88a42",
   "metadata": {},
   "source": [
    "### Question: What is the equivalent of enumerate for numpy arrays?\n",
    "\n",
    "### Answer:"
   ]
  },
  {
   "cell_type": "code",
   "execution_count": 6,
   "id": "ca91b12e",
   "metadata": {},
   "outputs": [
    {
     "name": "stdout",
     "output_type": "stream",
     "text": [
      "(0, 0) 10\n",
      "(0, 1) 20\n",
      "(0, 2) 30\n",
      "(1, 0) 40\n",
      "(1, 1) 50\n",
      "(1, 2) 60\n"
     ]
    }
   ],
   "source": [
    "arr = array([[10, 20, 30], [40, 50, 60]])\n",
    "\n",
    "for index, value in ndenumerate(arr):\n",
    "    print(index, value)"
   ]
  },
  {
   "cell_type": "markdown",
   "id": "1baba423",
   "metadata": {},
   "source": [
    "### Question: Subtract the mean of each row of a matrix\n",
    "\n",
    "### Answer:"
   ]
  },
  {
   "cell_type": "code",
   "execution_count": 7,
   "id": "9c893e10",
   "metadata": {},
   "outputs": [
    {
     "name": "stdout",
     "output_type": "stream",
     "text": [
      "[[-1.  0.  1.]\n",
      " [-1.  0.  1.]\n",
      " [-1.  0.  1.]]\n"
     ]
    }
   ],
   "source": [
    "A = array([[1, 2, 3],\n",
    "           [4, 5, 6],\n",
    "           [7, 8, 9]])\n",
    "\n",
    "result = A - A.mean(axis=1, keepdims=True)\n",
    "\n",
    "print(result)"
   ]
  },
  {
   "cell_type": "markdown",
   "id": "37baa40a",
   "metadata": {},
   "source": [
    "### Question: How to sort an array by the nth column? \n",
    "\n",
    "### Answer:"
   ]
  },
  {
   "cell_type": "code",
   "execution_count": 8,
   "id": "aa50976f",
   "metadata": {
    "scrolled": true
   },
   "outputs": [
    {
     "name": "stdout",
     "output_type": "stream",
     "text": [
      "[[7 0 9]\n",
      " [3 2 5]\n",
      " [1 4 2]]\n"
     ]
    }
   ],
   "source": [
    "arr = array([[3, 2, 5],\n",
    "             [1, 4, 2],\n",
    "             [7, 0, 9]])\n",
    "\n",
    "n = 1 \n",
    "\n",
    "sorted_arr = arr[arr[:, n].argsort()]\n",
    "\n",
    "print(sorted_arr)"
   ]
  },
  {
   "cell_type": "markdown",
   "id": "d4947a4a",
   "metadata": {},
   "source": [
    "### Question: Write a NumPy program to sort pairs of first name and last name return their indices. (first by last name, then by first name).\n",
    "first_names = (‘Betsey’, ‘Shelley’, ‘Lanell’, ‘Genesis’, ‘Margery’)\n",
    "\n",
    "last_names = (‘Battle’, ‘Brien’, ‘Plotner’, ‘Stahl’, ‘Woolum’)\n",
    "\n",
    "### Answer:"
   ]
  },
  {
   "cell_type": "code",
   "execution_count": 9,
   "id": "5612f745",
   "metadata": {},
   "outputs": [
    {
     "name": "stdout",
     "output_type": "stream",
     "text": [
      "[0 1 2 3 4]\n"
     ]
    }
   ],
   "source": [
    "first_names = ('Betsey', 'Shelley', 'Lanell', 'Genesis', 'Margery')\n",
    "last_names = ('Battle', 'Brien', 'Plotner', 'Stahl', 'Woolum')\n",
    "\n",
    "indices = lexsort((first_names, last_names))\n",
    "\n",
    "print(indices)"
   ]
  },
  {
   "cell_type": "markdown",
   "id": "68ad24f0",
   "metadata": {},
   "source": [
    "### Question: How to tell if a given 2D array has null columns?\n",
    "\n",
    "### Answer:"
   ]
  },
  {
   "cell_type": "code",
   "execution_count": 10,
   "id": "36bc3db9",
   "metadata": {},
   "outputs": [
    {
     "name": "stdout",
     "output_type": "stream",
     "text": [
      "[False  True False]\n"
     ]
    }
   ],
   "source": [
    "arr = array([[1, nan, 3],\n",
    "             [4, nan, 6],\n",
    "             [7, nan, 9]])\n",
    "\n",
    "# Check which columns are entirely NaN\n",
    "null_columns = all(isnan(arr), axis=0)\n",
    "\n",
    "print(null_columns)"
   ]
  },
  {
   "cell_type": "markdown",
   "id": "f345029e",
   "metadata": {},
   "source": [
    "### Question: Considering a four dimensions array, how to get sum over the last two axis at once? \n",
    "happens in avgpooling [batch,channel,hight,width]\n",
    "\n",
    "### Answer:"
   ]
  },
  {
   "cell_type": "code",
   "execution_count": 11,
   "id": "06330793",
   "metadata": {},
   "outputs": [
    {
     "name": "stdout",
     "output_type": "stream",
     "text": [
      "[[ 8.95188735 10.70036151 10.93420909]\n",
      " [ 8.64061868  9.99413161 10.15650665]]\n",
      "(2, 3)\n"
     ]
    }
   ],
   "source": [
    "arr = random.rand(2, 3, 4, 5)  \n",
    "\n",
    "sum_last_two = arr.sum(axis=(2, 3))\n",
    "\n",
    "print(sum_last_two)\n",
    "print(sum_last_two.shape)"
   ]
  },
  {
   "cell_type": "markdown",
   "id": "1f9bff95",
   "metadata": {},
   "source": [
    "### Related: Consider a 16x16 array, how to get the block-sum (block size is 4x4)? \n",
    "happens in avgpooling [batch,channel,hight,width]\n",
    "\n",
    "### Answer:"
   ]
  },
  {
   "cell_type": "code",
   "execution_count": 12,
   "id": "17401bf4",
   "metadata": {},
   "outputs": [
    {
     "name": "stdout",
     "output_type": "stream",
     "text": [
      "[[ 120  376  632  888]\n",
      " [1144 1400 1656 1912]\n",
      " [2168 2424 2680 2936]\n",
      " [3192 3448 3704 3960]]\n",
      "(4, 4)\n"
     ]
    }
   ],
   "source": [
    "arr = arange(16*16).reshape(16, 16)\n",
    "\n",
    "# Reshape into 4x4 blocks: (4,4,4,4)\n",
    "blocks = arr.reshape(4, 4, 4, 4)\n",
    "\n",
    "# Sum over the last two axes (each 4x4 block)\n",
    "block_sums = blocks.sum(axis=(2, 3))\n",
    "\n",
    "print(block_sums)\n",
    "print(block_sums.shape)"
   ]
  },
  {
   "cell_type": "markdown",
   "id": "2a725652",
   "metadata": {},
   "source": [
    "### Question: How to swap two rows of an array? \n",
    "\n",
    "### Answer:"
   ]
  },
  {
   "cell_type": "code",
   "execution_count": 13,
   "id": "b93bb8d8",
   "metadata": {},
   "outputs": [
    {
     "name": "stdout",
     "output_type": "stream",
     "text": [
      "[[7 8 9]\n",
      " [4 5 6]\n",
      " [1 2 3]]\n"
     ]
    }
   ],
   "source": [
    "arr = array([[1, 2, 3],\n",
    "             [4, 5, 6],\n",
    "             [7, 8, 9]])\n",
    "\n",
    "# Swap row 0 and row 2\n",
    "arr[[0, 2]] = arr[[2, 0]]\n",
    "\n",
    "print(arr)"
   ]
  },
  {
   "cell_type": "markdown",
   "id": "f5b5c96c",
   "metadata": {},
   "source": [
    "### Question: How to get the n largest values of an array\n",
    "happens in one-to-many classifier (top n predictions)\n",
    "\n",
    "### Answer:"
   ]
  },
  {
   "cell_type": "code",
   "execution_count": 14,
   "id": "03f37e8f",
   "metadata": {},
   "outputs": [
    {
     "name": "stdout",
     "output_type": "stream",
     "text": [
      "Indices of top n: [1 3 4]\n",
      "Top n values: [50 40 30]\n"
     ]
    }
   ],
   "source": [
    "arr = array([10, 50, 20, 40, 30])\n",
    "\n",
    "n = 3  # number of top values\n",
    "\n",
    "# Get indices of n largest values\n",
    "top_indices = arr.argsort()[-n:][::-1]\n",
    "\n",
    "# Get the top n values\n",
    "top_values = arr[top_indices]\n",
    "\n",
    "print(\"Indices of top n:\", top_indices)\n",
    "print(\"Top n values:\", top_values)"
   ]
  },
  {
   "cell_type": "markdown",
   "id": "8291ffa8",
   "metadata": {},
   "source": [
    "### Question: Consider an array Z = [1,2,3,4,5,6,7,8,9,10,11,12,13,14], how to generate an array R = [[1,2,3,4], [2,3,4,5], [3,4,5,6], ..., [11,12,13,14]]?\n",
    "simulating sequential model training feed\n",
    "\n",
    "### Answer:"
   ]
  },
  {
   "cell_type": "code",
   "execution_count": 15,
   "id": "7256db48",
   "metadata": {},
   "outputs": [
    {
     "name": "stdout",
     "output_type": "stream",
     "text": [
      "[[ 1  2  3  4]\n",
      " [ 2  3  4  5]\n",
      " [ 3  4  5  6]\n",
      " [ 4  5  6  7]\n",
      " [ 5  6  7  8]\n",
      " [ 6  7  8  9]\n",
      " [ 7  8  9 10]\n",
      " [ 8  9 10 11]\n",
      " [ 9 10 11 12]\n",
      " [10 11 12 13]\n",
      " [11 12 13 14]]\n"
     ]
    }
   ],
   "source": [
    "\n",
    "Z = array([1, 2, 3, 4, 5, 6, 7, 8, 9, 10, 11, 12, 13, 14])\n",
    "\n",
    "# Create sliding windows of size 4\n",
    "R = lib.stride_tricks.sliding_window_view(Z, window_shape=4)\n",
    "\n",
    "print(R)"
   ]
  },
  {
   "cell_type": "code",
   "execution_count": null,
   "id": "5ed4851b",
   "metadata": {},
   "outputs": [],
   "source": []
  }
 ],
 "metadata": {
  "kernelspec": {
   "display_name": "Python 3",
   "language": "python",
   "name": "python3"
  },
  "language_info": {
   "codemirror_mode": {
    "name": "ipython",
    "version": 3
   },
   "file_extension": ".py",
   "mimetype": "text/x-python",
   "name": "python",
   "nbconvert_exporter": "python",
   "pygments_lexer": "ipython3",
   "version": "3.13.5"
  }
 },
 "nbformat": 4,
 "nbformat_minor": 5
}
